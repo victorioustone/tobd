{
 "cells": [
  {
   "cell_type": "markdown",
   "metadata": {},
   "source": [
    "# Numpy"
   ]
  },
  {
   "cell_type": "markdown",
   "metadata": {},
   "source": [
    "Материалы:\n",
    "* Макрушин С.В. \"Лекция 1: Библиотека Numpy\"\n",
    "* https://numpy.org/doc/stable/user/index.html\n",
    "* https://numpy.org/doc/stable/reference/index.html\n",
    "* Уэс Маккини. Python и анализ данных"
   ]
  },
  {
   "cell_type": "markdown",
   "metadata": {},
   "source": [
    "## Задачи для совмместного разбора"
   ]
  },
  {
   "cell_type": "code",
   "execution_count": 1,
   "metadata": {},
   "outputs": [],
   "source": [
    "import numpy as np"
   ]
  },
  {
   "cell_type": "markdown",
   "metadata": {},
   "source": [
    "1. Сгенерировать двухмерный массив `arr` размерности (4, 7), состоящий из случайных действительных чисел, равномерно распределенных в диапазоне от 0 до 20. Нормализовать значения массива с помощью преобразования вида  $𝑎𝑥+𝑏$  так, что после нормализации максимальный элемент масcива будет равен 1.0, минимальный 0.0"
   ]
  },
  {
   "cell_type": "code",
   "execution_count": 2,
   "metadata": {},
   "outputs": [
    {
     "name": "stdout",
     "output_type": "stream",
     "text": [
      "[array([0.61411676, 0.21190286, 0.89482836, 0.16604413, 0.65751693,\n",
      "       0.29240575, 0.27669171]), array([0.62789805, 0.89287017, 0.45600321, 0.39629224, 0.        ,\n",
      "       0.53927689, 0.00903547]), array([0.91326599, 0.28452538, 0.56908382, 0.37375266, 0.52808817,\n",
      "       1.        , 0.57149316]), array([0.5314684 , 0.47939001, 0.55382301, 0.50312112, 0.85562091,\n",
      "       0.23696945, 0.3038262 ])]\n",
      "\n",
      "[array([0.61411676, 0.21190286, 0.89482836, 0.16604413, 0.65751693,\n",
      "       0.29240575, 0.27669171]), array([0.62789805, 0.89287017, 0.45600321, 0.39629224, 0.        ,\n",
      "       0.53927689, 0.00903547]), array([0.91326599, 0.28452538, 0.56908382, 0.37375266, 0.52808817,\n",
      "       1.        , 0.57149316]), array([0.5314684 , 0.47939001, 0.55382301, 0.50312112, 0.85562091,\n",
      "       0.23696945, 0.3038262 ])]\n"
     ]
    }
   ],
   "source": [
    "arr1 = np.random.uniform(0,20, size=(4,7))\n",
    "ar2 = [(i - arr1.min()) / (arr1.max() - arr1.min()) for i in arr1]\n",
    "ar3 = [(i - np.min(arr1)) / (np.max(arr1) - np.min(arr1)) for i in arr1]\n",
    "print(ar2)\n",
    "print()\n",
    "print(ar3)"
   ]
  },
  {
   "cell_type": "code",
   "execution_count": 3,
   "metadata": {},
   "outputs": [
    {
     "data": {
      "text/plain": [
       "array([[0.61411676, 0.21190286, 0.89482836, 0.16604413, 0.65751693,\n",
       "        0.29240575, 0.27669171],\n",
       "       [0.62789805, 0.89287017, 0.45600321, 0.39629224, 0.        ,\n",
       "        0.53927689, 0.00903547],\n",
       "       [0.91326599, 0.28452538, 0.56908382, 0.37375266, 0.52808817,\n",
       "        1.        , 0.57149316],\n",
       "       [0.5314684 , 0.47939001, 0.55382301, 0.50312112, 0.85562091,\n",
       "        0.23696945, 0.3038262 ]])"
      ]
     },
     "execution_count": 3,
     "metadata": {},
     "output_type": "execute_result"
    }
   ],
   "source": [
    "(arr1 - np.min(arr1)) / (np.max(arr1) - np.min(arr1))"
   ]
  },
  {
   "cell_type": "code",
   "execution_count": 4,
   "metadata": {},
   "outputs": [
    {
     "data": {
      "text/plain": [
       "array([18.01429781, 17.97766953, 19.9815568 , 17.28091376])"
      ]
     },
     "execution_count": 4,
     "metadata": {},
     "output_type": "execute_result"
    }
   ],
   "source": [
    "arr1.max(axis=1)"
   ]
  },
  {
   "cell_type": "code",
   "execution_count": 5,
   "metadata": {},
   "outputs": [
    {
     "data": {
      "text/plain": [
       "array([18.35917778, 17.97766953, 18.01429781, 10.68732659, 17.28091376,\n",
       "       19.9815568 , 11.96624092])"
      ]
     },
     "execution_count": 5,
     "metadata": {},
     "output_type": "execute_result"
    }
   ],
   "source": [
    "arr1.max(axis=0)"
   ]
  },
  {
   "cell_type": "markdown",
   "metadata": {},
   "source": [
    "2. Создать матрицу 8 на 10 из случайных целых (используя модуль `numpy.random`) чисел из диапозона от 0 до 10 и найти в ней строку (ее индекс и вывести саму строку), в которой сумма значений минимальна."
   ]
  },
  {
   "cell_type": "code",
   "execution_count": 6,
   "metadata": {},
   "outputs": [
    {
     "data": {
      "text/plain": [
       "array([[ 2,  7,  9,  8,  6, 10,  3,  7,  1,  7],\n",
       "       [ 5,  0,  7,  5,  7,  3,  5,  9,  3,  2],\n",
       "       [ 4,  8,  0, 10,  9,  7,  9,  0,  8,  2],\n",
       "       [ 1,  6,  4,  5,  9,  1,  1, 10,  3,  2],\n",
       "       [ 9,  6,  3,  5,  5,  1,  5,  1,  6,  2],\n",
       "       [ 9,  8,  6,  5, 10,  9,  4,  5,  9,  3],\n",
       "       [ 6,  0,  2,  3,  6,  8,  1,  2,  4,  1],\n",
       "       [ 6,  6,  7, 10,  3,  5,  8, 10,  9,  9]])"
      ]
     },
     "execution_count": 6,
     "metadata": {},
     "output_type": "execute_result"
    }
   ],
   "source": [
    "arr2 = np.random.randint(0,11, size=(8,10))\n",
    "arr2"
   ]
  },
  {
   "cell_type": "code",
   "execution_count": 7,
   "metadata": {},
   "outputs": [
    {
     "data": {
      "text/plain": [
       "array([[ 6,  6,  7, 10,  3,  5,  8, 10,  9,  9]])"
      ]
     },
     "execution_count": 7,
     "metadata": {},
     "output_type": "execute_result"
    }
   ],
   "source": [
    "msk = arr2.sum(axis=1) == np.max(arr2.sum(axis=1))\n",
    "arr2[msk]"
   ]
  },
  {
   "cell_type": "markdown",
   "metadata": {},
   "source": [
    "3. Найти евклидово расстояние между двумя одномерными векторами одинаковой размерности."
   ]
  },
  {
   "cell_type": "code",
   "execution_count": 8,
   "metadata": {},
   "outputs": [
    {
     "name": "stdout",
     "output_type": "stream",
     "text": [
      "[2 0 8 3 0 6 2 9]\n",
      "[3 9 1 0 4 3 4 5]\n"
     ]
    }
   ],
   "source": [
    "v1 = np.random.randint(0,10, size=(8,))\n",
    "v2 = np.random.randint(0,10, size=(8,))\n",
    "print(v1)\n",
    "print(v2)"
   ]
  },
  {
   "cell_type": "code",
   "execution_count": 9,
   "metadata": {},
   "outputs": [
    {
     "data": {
      "text/plain": [
       "13.601470508735444"
      ]
     },
     "execution_count": 9,
     "metadata": {},
     "output_type": "execute_result"
    }
   ],
   "source": [
    "np.sqrt(np.sum((v1 - v2)**2))"
   ]
  },
  {
   "cell_type": "markdown",
   "metadata": {},
   "source": [
    "4. Решить матричное уравнение `A*X*B=-C` - найти матрицу `X`. Где `A = [[-1, 2, 4], [-3, 1, 2], [-3, 0, 1]]`, `B=[[3, -1], [2, 1]]`, `C=[[7, 21], [11, 8], [8, 4]]`."
   ]
  },
  {
   "cell_type": "code",
   "execution_count": 10,
   "metadata": {},
   "outputs": [
    {
     "data": {
      "text/plain": [
       "array([[ 1.00000000e+00,  1.11022302e-15],\n",
       "       [-2.00000000e+00,  1.00000000e+00],\n",
       "       [ 3.00000000e+00, -4.00000000e+00]])"
      ]
     },
     "execution_count": 10,
     "metadata": {},
     "output_type": "execute_result"
    }
   ],
   "source": [
    "a = np.array([-1, 2, 4, -3, 1, 2, -3, 0, 1]).reshape(3,3)\n",
    "b = np.array([3, -1, 2, 1]).reshape(2,2)\n",
    "c = np.array([7, 21, 11, 8, 8, 4]).reshape(3,2)\n",
    "\n",
    "x = np.dot(np.dot(np.linalg.inv(a), c * (-1)), np.linalg.inv(b))\n",
    "x1 = np.linalg.inv(a) @ -c @ np.linalg.inv(b)\n",
    "x1\n",
    "\n",
    "#X = A^(-1) x (-C) x B^(-1)\n"
   ]
  },
  {
   "cell_type": "markdown",
   "metadata": {},
   "source": [
    "## Лабораторная работа №1"
   ]
  },
  {
   "cell_type": "markdown",
   "metadata": {},
   "source": [
    "Замечание: при решении данных задач не подразумевается использования циклов или генераторов Python, если в задании не сказано обратного. Решение должно опираться на использования функционала библиотеки `numpy`."
   ]
  },
  {
   "cell_type": "markdown",
   "metadata": {},
   "source": [
    "1. Файл `minutes_n_ingredients.csv` содержит информацию об идентификаторе рецепта, времени его выполнения в минутах и количестве необходимых ингредиентов. Считайте данные из этого файла в виде массива `numpy` типа `int32`, используя `np.loadtxt`. Выведите на экран первые 5 строк массива."
   ]
  },
  {
   "cell_type": "code",
   "execution_count": 11,
   "metadata": {},
   "outputs": [
    {
     "data": {
      "text/plain": [
       "array([[127244,     60,     16],\n",
       "       [ 23891,     25,      7],\n",
       "       [ 94746,     10,      6],\n",
       "       [ 67660,      5,      6],\n",
       "       [157911,     60,     14]], dtype=int32)"
      ]
     },
     "execution_count": 11,
     "metadata": {},
     "output_type": "execute_result"
    }
   ],
   "source": [
    "minutes_n_ingredients = np.loadtxt('./data/minutes_n_ingredients.csv', dtype='int32', skiprows=1, delimiter=',')\n",
    "minutes_n_ingredients[:5]"
   ]
  },
  {
   "cell_type": "markdown",
   "metadata": {},
   "source": [
    "2. Вычислите среднее значение, минимум, максимум и медиану по каждому из столбцов, кроме первого."
   ]
  },
  {
   "cell_type": "code",
   "execution_count": 12,
   "metadata": {},
   "outputs": [
    {
     "data": {
      "text/plain": [
       "array([2.16010017e+04, 9.05528000e+00])"
      ]
     },
     "execution_count": 12,
     "metadata": {},
     "output_type": "execute_result"
    }
   ],
   "source": [
    "np.mean(minutes_n_ingredients[:,1:], axis=0) # cреднее v1"
   ]
  },
  {
   "cell_type": "code",
   "execution_count": 13,
   "metadata": {},
   "outputs": [
    {
     "data": {
      "text/plain": [
       "array([2.16010017e+04, 9.05528000e+00])"
      ]
     },
     "execution_count": 13,
     "metadata": {},
     "output_type": "execute_result"
    }
   ],
   "source": [
    "np.average(minutes_n_ingredients[:,1:], axis=0) # cреднее v2"
   ]
  },
  {
   "cell_type": "code",
   "execution_count": 14,
   "metadata": {},
   "outputs": [
    {
     "data": {
      "text/plain": [
       "array([0, 1], dtype=int32)"
      ]
     },
     "execution_count": 14,
     "metadata": {},
     "output_type": "execute_result"
    }
   ],
   "source": [
    "np.min(minutes_n_ingredients[:,1:], axis=0) #минимум"
   ]
  },
  {
   "cell_type": "code",
   "execution_count": 15,
   "metadata": {},
   "outputs": [
    {
     "data": {
      "text/plain": [
       "array([2147483647,         39], dtype=int32)"
      ]
     },
     "execution_count": 15,
     "metadata": {},
     "output_type": "execute_result"
    }
   ],
   "source": [
    "np.max(minutes_n_ingredients[:,1:], axis=0) #максимум"
   ]
  },
  {
   "cell_type": "code",
   "execution_count": 16,
   "metadata": {},
   "outputs": [
    {
     "data": {
      "text/plain": [
       "array([40.,  9.])"
      ]
     },
     "execution_count": 16,
     "metadata": {},
     "output_type": "execute_result"
    }
   ],
   "source": [
    "np.median(minutes_n_ingredients[:,1:], axis=0)  #медиана"
   ]
  },
  {
   "cell_type": "markdown",
   "metadata": {},
   "source": [
    "3. Ограничьте сверху значения продолжительности выполнения рецепта значением квантиля $q_{0.75}$. "
   ]
  },
  {
   "cell_type": "code",
   "execution_count": 17,
   "metadata": {},
   "outputs": [
    {
     "data": {
      "text/plain": [
       "array([[127244,     60,     16],\n",
       "       [ 23891,     25,      7],\n",
       "       [ 94746,     10,      6],\n",
       "       ...,\n",
       "       [371794,     35,      8],\n",
       "       [ 43407,     35,      7],\n",
       "       [370915,      5,      4]], dtype=int32)"
      ]
     },
     "execution_count": 17,
     "metadata": {},
     "output_type": "execute_result"
    }
   ],
   "source": [
    "minutes_n_ingredients[minutes_n_ingredients[:, 1] < np.quantile(minutes_n_ingredients, 0.75, axis = 0)[1]]"
   ]
  },
  {
   "cell_type": "markdown",
   "metadata": {},
   "source": [
    "4. Посчитайте, для скольких рецептов указана продолжительность, равная нулю. Замените для таких строк значение в данном столбце на 1."
   ]
  },
  {
   "cell_type": "code",
   "execution_count": 18,
   "metadata": {},
   "outputs": [
    {
     "data": {
      "text/plain": [
       "479"
      ]
     },
     "execution_count": 18,
     "metadata": {},
     "output_type": "execute_result"
    }
   ],
   "source": [
    "minutes_n_ingredients[minutes_n_ingredients[:,1] == 0].shape[0]"
   ]
  },
  {
   "cell_type": "code",
   "execution_count": 19,
   "metadata": {},
   "outputs": [
    {
     "data": {
      "text/plain": [
       "array([[127244,     60,     16],\n",
       "       [ 23891,     25,      7],\n",
       "       [ 94746,     10,      6],\n",
       "       ...,\n",
       "       [498432,     65,     15],\n",
       "       [370915,      5,      4],\n",
       "       [ 81993,    140,     14]], dtype=int32)"
      ]
     },
     "execution_count": 19,
     "metadata": {},
     "output_type": "execute_result"
    }
   ],
   "source": [
    "minutes_n_ingredients[:,1] = np.where((minutes_n_ingredients[:,1] == 0), 1, minutes_n_ingredients[:,1])\n",
    "minutes_n_ingredients"
   ]
  },
  {
   "cell_type": "markdown",
   "metadata": {},
   "source": [
    "5. Посчитайте, сколько уникальных рецептов находится в датасете."
   ]
  },
  {
   "cell_type": "code",
   "execution_count": 20,
   "metadata": {},
   "outputs": [
    {
     "data": {
      "text/plain": [
       "8366"
      ]
     },
     "execution_count": 20,
     "metadata": {},
     "output_type": "execute_result"
    }
   ],
   "source": [
    "np.size(np.unique(minutes_n_ingredients[:,1:], axis = 0))"
   ]
  },
  {
   "cell_type": "markdown",
   "metadata": {},
   "source": [
    "6. Сколько и каких различных значений кол-ва ингредиентов присутвует в рецептах из датасета?"
   ]
  },
  {
   "cell_type": "code",
   "execution_count": 21,
   "metadata": {},
   "outputs": [
    {
     "data": {
      "text/plain": [
       "37"
      ]
     },
     "execution_count": 21,
     "metadata": {},
     "output_type": "execute_result"
    }
   ],
   "source": [
    "np.size(np.unique(minutes_n_ingredients[:,2], axis = 0)) #сколько"
   ]
  },
  {
   "cell_type": "code",
   "execution_count": 22,
   "metadata": {},
   "outputs": [
    {
     "data": {
      "text/plain": [
       "array([ 1,  2,  3,  4,  5,  6,  7,  8,  9, 10, 11, 12, 13, 14, 15, 16, 17,\n",
       "       18, 19, 20, 21, 22, 23, 24, 25, 26, 27, 28, 29, 30, 31, 32, 33, 34,\n",
       "       35, 37, 39], dtype=int32)"
      ]
     },
     "execution_count": 22,
     "metadata": {},
     "output_type": "execute_result"
    }
   ],
   "source": [
    "np.unique(minutes_n_ingredients[:,2], axis = 0) #какие"
   ]
  },
  {
   "cell_type": "markdown",
   "metadata": {},
   "source": [
    "7. Создайте версию массива, содержащую информацию только о рецептах, состоящих не более чем из 5 ингредиентов."
   ]
  },
  {
   "cell_type": "code",
   "execution_count": 23,
   "metadata": {},
   "outputs": [
    {
     "data": {
      "text/plain": [
       "array([[204134,      5,      3],\n",
       "       [ 25623,      6,      4],\n",
       "       [484223,     18,      4],\n",
       "       ...,\n",
       "       [227056,     30,      4],\n",
       "       [128811,     15,      4],\n",
       "       [370915,      5,      4]], dtype=int32)"
      ]
     },
     "execution_count": 23,
     "metadata": {},
     "output_type": "execute_result"
    }
   ],
   "source": [
    "minutes_n_ingredients[minutes_n_ingredients[:,2] < 5]"
   ]
  },
  {
   "cell_type": "markdown",
   "metadata": {},
   "source": [
    "8. Для каждого рецепта посчитайте, сколько в среднем ингредиентов приходится на одну минуту рецепта. Найдите максимальное значение этой величины для всего датасета"
   ]
  },
  {
   "cell_type": "code",
   "execution_count": 24,
   "metadata": {},
   "outputs": [
    {
     "data": {
      "text/plain": [
       "0.381174261705681"
      ]
     },
     "execution_count": 24,
     "metadata": {},
     "output_type": "execute_result"
    }
   ],
   "source": [
    "np.mean(minutes_n_ingredients[:, 2] / minutes_n_ingredients[:, 1])  # в среднем"
   ]
  },
  {
   "cell_type": "code",
   "execution_count": 25,
   "metadata": {},
   "outputs": [
    {
     "data": {
      "text/plain": [
       "24.0"
      ]
     },
     "execution_count": 25,
     "metadata": {},
     "output_type": "execute_result"
    }
   ],
   "source": [
    "np.max(minutes_n_ingredients[:, 2] / minutes_n_ingredients[:, 1])  # максимум"
   ]
  },
  {
   "cell_type": "markdown",
   "metadata": {},
   "source": [
    "9. Вычислите среднее количество ингредиентов для топ-100 рецептов с наибольшей продолжительностью"
   ]
  },
  {
   "cell_type": "code",
   "execution_count": 26,
   "metadata": {},
   "outputs": [
    {
     "data": {
      "text/plain": [
       "21518445.39"
      ]
     },
     "execution_count": 26,
     "metadata": {},
     "output_type": "execute_result"
    }
   ],
   "source": [
    "np.mean(np.sort(minutes_n_ingredients[:,1], axis = 0)[::-1][:100]) "
   ]
  },
  {
   "cell_type": "markdown",
   "metadata": {},
   "source": [
    "10. Выберите случайным образом и выведите информацию о 10 различных рецептах"
   ]
  },
  {
   "cell_type": "code",
   "execution_count": 27,
   "metadata": {},
   "outputs": [
    {
     "data": {
      "text/plain": [
       "array([[377522,     70,     14],\n",
       "       [479450,    175,     17],\n",
       "       [359622,     80,     12],\n",
       "       [346440,    125,      3],\n",
       "       [265996,      7,      5],\n",
       "       [221509,     75,     17],\n",
       "       [467738,     20,     10],\n",
       "       [276069,      5,      5],\n",
       "       [283808,     45,     11],\n",
       "       [413579,     50,     13]], dtype=int32)"
      ]
     },
     "execution_count": 27,
     "metadata": {},
     "output_type": "execute_result"
    }
   ],
   "source": [
    "minutes_n_ingredients[np.random.randint(np.size(minutes_n_ingredients, axis = 0), size=10), :] #v1"
   ]
  },
  {
   "cell_type": "code",
   "execution_count": 28,
   "metadata": {},
   "outputs": [
    {
     "data": {
      "text/plain": [
       "array([[ 17679,     50,      7],\n",
       "       [ 60029,     90,     12],\n",
       "       [ 10984,     60,     16],\n",
       "       [122669,      7,      4],\n",
       "       [414250,     20,      7],\n",
       "       [200116,     35,      9],\n",
       "       [167188,    240,      8],\n",
       "       [316787,     37,      6],\n",
       "       [309127,     10,      9],\n",
       "       [440702,     50,     16]], dtype=int32)"
      ]
     },
     "execution_count": 28,
     "metadata": {},
     "output_type": "execute_result"
    }
   ],
   "source": [
    "minutes_n_ingredients[np.random.choice(minutes_n_ingredients.shape[0], size=10, replace=False), :] #v2"
   ]
  },
  {
   "cell_type": "markdown",
   "metadata": {},
   "source": [
    "11. Выведите процент рецептов, кол-во ингредиентов в которых меньше среднего."
   ]
  },
  {
   "cell_type": "code",
   "execution_count": 29,
   "metadata": {},
   "outputs": [
    {
     "name": "stdout",
     "output_type": "stream",
     "text": [
      "58.802%\n"
     ]
    }
   ],
   "source": [
    "slicee = minutes_n_ingredients[minutes_n_ingredients[:, 2] < np.mean(minutes_n_ingredients, axis = 0)[2]]\n",
    "print(f'{(slicee.shape[0] / minutes_n_ingredients.shape[0]) * 100}%')"
   ]
  },
  {
   "cell_type": "markdown",
   "metadata": {},
   "source": [
    "12. Назовем \"простым\" такой рецепт, длительность выполнения которого не больше 20 минут и кол-во ингредиентов в котором не больше 5. Создайте версию датасета с дополнительным столбцом, значениями которого являются 1, если рецепт простой, и 0 в противном случае."
   ]
  },
  {
   "cell_type": "code",
   "execution_count": 30,
   "metadata": {},
   "outputs": [
    {
     "data": {
      "text/plain": [
       "array([[127244,     60,     16,      0],\n",
       "       [ 23891,     25,      7,      0],\n",
       "       [ 94746,     10,      6,      0],\n",
       "       ...,\n",
       "       [498432,     65,     15,      0],\n",
       "       [370915,      5,      4,      1],\n",
       "       [ 81993,    140,     14,      0]], dtype=int32)"
      ]
     },
     "execution_count": 30,
     "metadata": {},
     "output_type": "execute_result"
    }
   ],
   "source": [
    "condition = (minutes_n_ingredients[:, 1] <= 20) & (minutes_n_ingredients[:, 2] <= 5)\n",
    "zeros = np.zeros((minutes_n_ingredients.shape[0],1), dtype='int32') \n",
    "\n",
    "minutes_n_ingredients_v2 = np.append(minutes_n_ingredients, zeros, axis=1)\n",
    "minutes_n_ingredients_v2[:,3] = np.where(condition, 1, 0)\n",
    "minutes_n_ingredients_v2"
   ]
  },
  {
   "cell_type": "markdown",
   "metadata": {},
   "source": [
    "13. Выведите процент \"простых\" рецептов в датасете"
   ]
  },
  {
   "cell_type": "code",
   "execution_count": 31,
   "metadata": {},
   "outputs": [
    {
     "name": "stdout",
     "output_type": "stream",
     "text": [
      "9.552%\n"
     ]
    }
   ],
   "source": [
    "slicee = minutes_n_ingredients[minutes_n_ingredients[:, 2] < np.mean(minutes_n_ingredients, axis = 0)[2]]\n",
    "ones = minutes_n_ingredients_v2[minutes_n_ingredients_v2[:,3] == 1].shape[0]\n",
    "print(f'{(ones / minutes_n_ingredients_v2.shape[0]) * 100}%')"
   ]
  },
  {
   "cell_type": "markdown",
   "metadata": {},
   "source": [
    "14. Разделим рецепты на группы по следующему правилу. Назовем рецепты короткими, если их продолжительность составляет менее 10 минут; стандартными, если их продолжительность составляет более 10, но менее 20 минут; и длинными, если их продолжительность составляет не менее 20 минут. Создайте трехмерный массив, где нулевая ось отвечает за номер группы (короткий, стандартный или длинный рецепт), первая ось - за сам рецепт и вторая ось - за характеристики рецепта. Выберите максимальное количество рецептов из каждой группы таким образом, чтобы было возможно сформировать трехмерный массив. Выведите форму полученного массива."
   ]
  },
  {
   "cell_type": "code",
   "execution_count": 32,
   "metadata": {},
   "outputs": [
    {
     "data": {
      "text/plain": [
       "array([[ 67660,      5,      6],\n",
       "       [366174,      7,      9],\n",
       "       [204134,      5,      3],\n",
       "       ...,\n",
       "       [287943,     85,     15],\n",
       "       [498432,     65,     15],\n",
       "       [ 81993,    140,     14]], dtype=int32)"
      ]
     },
     "execution_count": 32,
     "metadata": {},
     "output_type": "execute_result"
    }
   ],
   "source": [
    "# условия\n",
    "short = minutes_n_ingredients[:, 1] < 10\n",
    "medium = (minutes_n_ingredients[:, 1] >= 10) & (minutes_n_ingredients[:, 1] < 20)\n",
    "long = minutes_n_ingredients[:, 1] >= 20\n",
    "\n",
    "np.concatenate((minutes_n_ingredients[short], minutes_n_ingredients[medium], minutes_n_ingredients[long]), axis=0)"
   ]
  },
  {
   "cell_type": "code",
   "execution_count": 33,
   "metadata": {},
   "outputs": [
    {
     "data": {
      "text/plain": [
       "array([536728,      9,     29], dtype=int32)"
      ]
     },
     "execution_count": 33,
     "metadata": {},
     "output_type": "execute_result"
    }
   ],
   "source": [
    "short_m_n_i = minutes_n_ingredients[short]\n",
    "short_m_n_i.sort(axis=0)\n",
    "# short_m_n_i = np.vsplit(short_m_n_i[:,1:], short_m_n_i.shape[0])\n",
    "short_m_n_i[-1]"
   ]
  },
  {
   "cell_type": "code",
   "execution_count": 34,
   "metadata": {},
   "outputs": [
    {
     "data": {
      "text/plain": [
       "array([532920,     19,     30], dtype=int32)"
      ]
     },
     "execution_count": 34,
     "metadata": {},
     "output_type": "execute_result"
    }
   ],
   "source": [
    "middle_m_n_i = minutes_n_ingredients[medium][:7588]\n",
    "middle_m_n_i.sort(axis=0)\n",
    "# middle_m_n_i = np.vsplit(middle_m_n_i[:,1:], middle_m_n_i.shape[0])\n",
    "middle_m_n_i[-1]"
   ]
  },
  {
   "cell_type": "code",
   "execution_count": 35,
   "metadata": {},
   "outputs": [
    {
     "data": {
      "text/plain": [
       "array([536700,  43202,     35], dtype=int32)"
      ]
     },
     "execution_count": 35,
     "metadata": {},
     "output_type": "execute_result"
    }
   ],
   "source": [
    "long_m_n_i = minutes_n_ingredients[long][:7588]\n",
    "long_m_n_i.sort(axis=0)\n",
    "# long_m_n_i = np.vsplit(long_m_n_i, long_m_n_i .shape[0])\n",
    "long_m_n_i[-1]"
   ]
  },
  {
   "cell_type": "code",
   "execution_count": 36,
   "metadata": {},
   "outputs": [
    {
     "data": {
      "text/plain": [
       "array([[[    1,     1],\n",
       "        [    1,     1],\n",
       "        [    1,     1],\n",
       "        ...,\n",
       "        [    9,    25],\n",
       "        [    9,    28],\n",
       "        [    9,    29]],\n",
       "\n",
       "       [[   10,     1],\n",
       "        [   10,     1],\n",
       "        [   10,     2],\n",
       "        ...,\n",
       "        [   19,    25],\n",
       "        [   19,    25],\n",
       "        [   19,    30]],\n",
       "\n",
       "       [[   20,     2],\n",
       "        [   20,     2],\n",
       "        [   20,     2],\n",
       "        ...,\n",
       "        [20175,    30],\n",
       "        [23050,    30],\n",
       "        [43202,    35]]], dtype=int32)"
      ]
     },
     "execution_count": 36,
     "metadata": {},
     "output_type": "execute_result"
    }
   ],
   "source": [
    "# m_n_i_v3 = np.concatenate((short_m_n_i, middle_m_n_i, long_m_n_i), axis=0)\n",
    "# m_n_i_v3 = np.vsplit(m_n_i_v3, 3)\n",
    "m_n_i_v3 = np.stack((short_m_n_i[:,1:], middle_m_n_i[:,1:], long_m_n_i[:,1:]))\n",
    "m_n_i_v3 "
   ]
  },
  {
   "cell_type": "code",
   "execution_count": 37,
   "metadata": {},
   "outputs": [
    {
     "data": {
      "text/plain": [
       "3"
      ]
     },
     "execution_count": 37,
     "metadata": {},
     "output_type": "execute_result"
    }
   ],
   "source": [
    "m_n_i_v3.ndim"
   ]
  }
 ],
 "metadata": {
  "kernelspec": {
   "display_name": "Python 3",
   "language": "python",
   "name": "python3"
  },
  "language_info": {
   "codemirror_mode": {
    "name": "ipython",
    "version": 3
   },
   "file_extension": ".py",
   "mimetype": "text/x-python",
   "name": "python",
   "nbconvert_exporter": "python",
   "pygments_lexer": "ipython3",
   "version": "3.8.5"
  }
 },
 "nbformat": 4,
 "nbformat_minor": 4
}
